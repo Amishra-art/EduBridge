{
 "cells": [
  {
   "cell_type": "code",
   "execution_count": 1,
   "metadata": {},
   "outputs": [],
   "source": [
    "a=50"
   ]
  },
  {
   "cell_type": "code",
   "execution_count": 2,
   "metadata": {},
   "outputs": [],
   "source": [
    "b=45"
   ]
  },
  {
   "cell_type": "code",
   "execution_count": 3,
   "metadata": {},
   "outputs": [],
   "source": [
    "c=a+b"
   ]
  },
  {
   "cell_type": "code",
   "execution_count": 4,
   "metadata": {},
   "outputs": [
    {
     "data": {
      "text/plain": [
       "95"
      ]
     },
     "execution_count": 4,
     "metadata": {},
     "output_type": "execute_result"
    }
   ],
   "source": [
    "c"
   ]
  },
  {
   "cell_type": "code",
   "execution_count": 5,
   "metadata": {},
   "outputs": [
    {
     "name": "stdout",
     "output_type": "stream",
     "text": [
      "sum 95\n"
     ]
    }
   ],
   "source": [
    "print('sum',c)"
   ]
  },
  {
   "cell_type": "code",
   "execution_count": 6,
   "metadata": {},
   "outputs": [],
   "source": [
    "s=a*a"
   ]
  },
  {
   "cell_type": "code",
   "execution_count": 7,
   "metadata": {},
   "outputs": [
    {
     "data": {
      "text/plain": [
       "2500"
      ]
     },
     "execution_count": 7,
     "metadata": {},
     "output_type": "execute_result"
    }
   ],
   "source": [
    "s"
   ]
  },
  {
   "cell_type": "code",
   "execution_count": 8,
   "metadata": {},
   "outputs": [
    {
     "name": "stdout",
     "output_type": "stream",
     "text": [
      "Python\n",
      "Python\n",
      "Python\n",
      "Python\n",
      "Python\n",
      "Python\n",
      "Python\n",
      "Python\n",
      "Python\n",
      "Python\n"
     ]
    }
   ],
   "source": [
    "i =1\n",
    "while i<=10:\n",
    "    i=i+1\n",
    "    print('Python')"
   ]
  },
  {
   "cell_type": "code",
   "execution_count": 9,
   "metadata": {},
   "outputs": [
    {
     "name": "stdout",
     "output_type": "stream",
     "text": [
      "11\n"
     ]
    }
   ],
   "source": [
    "i=10\n",
    "while i<=10:\n",
    "    i=i+1\n",
    "    print(i)"
   ]
  },
  {
   "cell_type": "code",
   "execution_count": 10,
   "metadata": {},
   "outputs": [
    {
     "name": "stdout",
     "output_type": "stream",
     "text": [
      "5\n",
      "Rahul\n"
     ]
    }
   ],
   "source": [
    "#Variables\n",
    "'''Variables are containers for storing data values.'''\n",
    "\n",
    "#Creating Variables\n",
    "'''Python has no command for declaring a variable.\n",
    "A variable is created the moment you first assign a value to it.'''\n",
    "\n",
    "#Example\n",
    "\n",
    "x = 5\n",
    "y = \"Rahul\"\n",
    "print(x)\n",
    "print(y)"
   ]
  },
  {
   "cell_type": "code",
   "execution_count": 11,
   "metadata": {},
   "outputs": [
    {
     "name": "stdout",
     "output_type": "stream",
     "text": [
      "Rahul\n"
     ]
    }
   ],
   "source": [
    "#Example_1\n",
    "\n",
    "x = 4       # x is of type int\n",
    "x = \"Rahul\" # x is now of type str\n",
    "print(x)"
   ]
  },
  {
   "cell_type": "code",
   "execution_count": 12,
   "metadata": {},
   "outputs": [
    {
     "name": "stdout",
     "output_type": "stream",
     "text": [
      "WELCOME 10 1.5\n"
     ]
    }
   ],
   "source": [
    "#Casting\n",
    "'''Casting is nothing but to specify the data type of a variable, this can be done with casting.'''\n",
    "\n",
    "A = str('WELCOME')\n",
    "B = int(10)\n",
    "C = float(1.5)\n",
    "print(A,B,C)"
   ]
  },
  {
   "cell_type": "code",
   "execution_count": 13,
   "metadata": {},
   "outputs": [
    {
     "name": "stdout",
     "output_type": "stream",
     "text": [
      "<class 'int'>\n",
      "<class 'str'>\n",
      "<class 'float'>\n"
     ]
    }
   ],
   "source": [
    "#Type\n",
    "'''You can get the data type of a variable with the type() function.'''\n",
    "\n",
    "A = 10\n",
    "B = 'Python'\n",
    "C = 5.5\n",
    "print(type(A))\n",
    "print(type(B))\n",
    "print(type(C))"
   ]
  },
  {
   "cell_type": "code",
   "execution_count": 14,
   "metadata": {},
   "outputs": [
    {
     "name": "stdout",
     "output_type": "stream",
     "text": [
      "Python\n",
      "Python\n"
     ]
    }
   ],
   "source": [
    "#Single or Double Quotes?\n",
    "'''String variables can be declared either by using single or double quotes:'''\n",
    "\n",
    "A = \"Python\"\n",
    "B = 'Python'\n",
    "print(A)\n",
    "print(B)"
   ]
  },
  {
   "cell_type": "code",
   "execution_count": 15,
   "metadata": {},
   "outputs": [
    {
     "name": "stdout",
     "output_type": "stream",
     "text": [
      "4\n",
      "Rahul\n"
     ]
    }
   ],
   "source": [
    "#Case-Sensitive\n",
    "'''Variable names are case-sensitive.'''\n",
    "\n",
    "a = 4\n",
    "A = \"Rahul\"\n",
    "print(a)\n",
    "print(A)\n",
    "#A will not overwrite a"
   ]
  },
  {
   "cell_type": "code",
   "execution_count": 16,
   "metadata": {},
   "outputs": [
    {
     "name": "stdout",
     "output_type": "stream",
     "text": [
      "Anand\n",
      "Abhishek\n",
      "Awadhesh\n",
      "Ashu\n",
      "Ankur\n",
      "Ankit\n",
      "Anurag\n"
     ]
    }
   ],
   "source": [
    "#Variable Names\n",
    "'''A variable name must start with a letter or the underscore character\n",
    "   A variable name cannot start with a number\n",
    "   A variable name can only contain alpha-numeric characters and underscores (A-z, 0-9, and _ )\n",
    "   Variable names are case-sensitive (age, Age and AGE are three different variables)'''\n",
    "\n",
    "myvar = \"Anand\"\n",
    "my_var = \"Abhishek\"\n",
    "_my_var = \"Awadhesh\"\n",
    "myVar = \"Ashu\"\n",
    "MYVAR = \"Ankur\"\n",
    "myvar1 = \"Ankit\"\n",
    "myvar2 = \"Anurag\"\n",
    "\n",
    "\n",
    "print(myvar)\n",
    "print(my_var)\n",
    "print(_my_var)\n",
    "print(myVar)\n",
    "print(MYVAR)\n",
    "print(myvar1)\n",
    "print(myvar2)"
   ]
  },
  {
   "cell_type": "code",
   "execution_count": 17,
   "metadata": {},
   "outputs": [
    {
     "name": "stdout",
     "output_type": "stream",
     "text": [
      "Orange\n",
      "Banana\n",
      "Cherry\n"
     ]
    }
   ],
   "source": [
    "#Many Values to Multiple Variables\n",
    "'''Python allows you to assign values to multiple variables in one line:'''\n",
    "\n",
    "x, y, z = \"Orange\", \"Banana\", \"Cherry\"\n",
    "print(x)\n",
    "print(y)\n",
    "print(z)"
   ]
  },
  {
   "cell_type": "code",
   "execution_count": 18,
   "metadata": {},
   "outputs": [
    {
     "name": "stdout",
     "output_type": "stream",
     "text": [
      "Welcome\n",
      "Welcome\n",
      "Welcome\n"
     ]
    }
   ],
   "source": [
    "#One Value to Multiple Variables\n",
    "'''And you can assign the same value to multiple variables in one line:'''\n",
    "\n",
    "x = y = z = \"Welcome\"\n",
    "print(x)\n",
    "print(y)\n",
    "print(z)"
   ]
  },
  {
   "cell_type": "code",
   "execution_count": 31,
   "metadata": {},
   "outputs": [
    {
     "name": "stdout",
     "output_type": "stream",
     "text": [
      "<class 'dict'>\n",
      "{1: 'hello', 2: 'world'}\n"
     ]
    }
   ],
   "source": [
    "pytuple = dict([(1,'hello'),(2,'world')])\n",
    "print(type(pytuple))\n",
    "print(pytuple)"
   ]
  },
  {
   "cell_type": "code",
   "execution_count": 32,
   "metadata": {},
   "outputs": [
    {
     "name": "stdout",
     "output_type": "stream",
     "text": [
      "<class 'dict'>\n",
      "{1: 1.5, 2: 2.0, 3: 3.5, 4: 4.5}\n"
     ]
    }
   ],
   "source": [
    "pydict={1:1.50,2:2.0,3:3.50,4:4.50}\n",
    "print(type(pydict))\n",
    "print(pydict)"
   ]
  },
  {
   "cell_type": "code",
   "execution_count": 33,
   "metadata": {},
   "outputs": [
    {
     "name": "stdout",
     "output_type": "stream",
     "text": [
      "['a', 'e', 'i', 'o', 'u']\n",
      "{'a': None, 'e': None, 'i': None, 'o': None, 'u': None}\n",
      "{'a': 'vowels', 'e': 'vowels', 'i': 'vowels', 'o': 'vowels', 'u': 'vowels'}\n"
     ]
    }
   ],
   "source": [
    "keys=['a','e','i','o','u']\n",
    "print(keys)\n",
    "vowels=dict.fromkeys(keys)\n",
    "print(vowels)\n",
    "value='vowels'\n",
    "vowels=dict.fromkeys(keys,value)\n",
    "print(vowels)"
   ]
  },
  {
   "cell_type": "code",
   "execution_count": 34,
   "metadata": {},
   "outputs": [
    {
     "name": "stdout",
     "output_type": "stream",
     "text": [
      "<class 'dict'>\n",
      "spark\n",
      "Data Structure\n",
      "django\n",
      "dict_items([(1, 'Big Data'), (2, 'Data Structure'), (3, 'python'), (4, 'spark'), (5, 'django')])\n"
     ]
    }
   ],
   "source": [
    "pydict0 = {1:'Big Data',2:'Data Structure',3:'python',4:'spark',5:'django'} \n",
    "print(type(pydict0))\n",
    "print(pydict0.get(4))\n",
    "print(pydict0.get(2))\n",
    "print(pydict0.get(5))\n",
    "print(pydict0.items())"
   ]
  },
  {
   "cell_type": "code",
   "execution_count": 35,
   "metadata": {},
   "outputs": [
    {
     "name": "stdout",
     "output_type": "stream",
     "text": [
      "{1: 'Big Data', 2: 'Data Structure', 3: 'python', 4: 'spark', 5: 'django'}\n",
      "dict_keys([1, 2, 3, 4, 5])\n",
      "dict_values(['Big Data', 'Data Structure', 'python', 'spark', 'django'])\n"
     ]
    }
   ],
   "source": [
    "pydict1 = {1:'AI',2:'ML',3:'DL',4:'DS'}\n",
    "pydict1.update(pydict0)\n",
    "print(pydict1)\n",
    "print(pydict0.keys())\n",
    "print(pydict0.values())"
   ]
  },
  {
   "cell_type": "code",
   "execution_count": 36,
   "metadata": {},
   "outputs": [
    {
     "name": "stdout",
     "output_type": "stream",
     "text": [
      "{'Name': 'Ashu', 'ID': 123, 'Add': 'HYD'}\n",
      "{'Name': 'Ashu', 'ID': 123}\n",
      "{'Name': 'Ashu'}\n",
      "{}\n",
      "{'Name': 'Ashu', 'ID': 123}\n"
     ]
    }
   ],
   "source": [
    "PyDict = {\"Name\":'Ashu',\"ID\":123,\"Add\":'HYD'}\n",
    "PyDict1 = {\"Name\":'Ashu',\"ID\":123,\"Add\":'HYD'}\n",
    "print(PyDict)\n",
    "PyDict.pop(\"Add\")\n",
    "print(PyDict)\n",
    "PyDict.pop(\"ID\")\n",
    "print(PyDict)\n",
    "PyDict.pop(\"Name\")\n",
    "print(PyDict)\n",
    "PyDict1.popitem()\n",
    "print(PyDict1)"
   ]
  },
  {
   "cell_type": "code",
   "execution_count": 37,
   "metadata": {},
   "outputs": [
    {
     "name": "stdout",
     "output_type": "stream",
     "text": [
      "The sum is:  60\n",
      "The Sub is:  -20\n"
     ]
    }
   ],
   "source": [
    "def Add_Sub(a,b):\n",
    "    Add = a+b\n",
    "    Sub = a-b\n",
    "    return(Add,Sub)\n",
    "A,B = Add_Sub(20,40)\n",
    "print(\"The sum is: \",A)\n",
    "print(\"The Sub is: \",B)"
   ]
  },
  {
   "cell_type": "code",
   "execution_count": 38,
   "metadata": {},
   "outputs": [
    {
     "name": "stdout",
     "output_type": "stream",
     "text": [
      "The sum is:  3277\n",
      "The Sub is:  -3169\n",
      "The Mul is:  174042\n",
      "The Div is:  0.016754576481538937\n"
     ]
    }
   ],
   "source": [
    "def AddSubMulDiv(a,b):\n",
    "    Add = a+b\n",
    "    Sub = a-b\n",
    "    Mul = a*b\n",
    "    Div = a/b\n",
    "    return(Add,Sub,Mul,Div)\n",
    "A,B,C,D = AddSubMulDiv(54,3223)\n",
    "print(\"The sum is: \",A)\n",
    "print(\"The Sub is: \",B)\n",
    "print(\"The Mul is: \",C)\n",
    "print(\"The Div is: \",D)"
   ]
  },
  {
   "cell_type": "code",
   "execution_count": 39,
   "metadata": {},
   "outputs": [
    {
     "name": "stdout",
     "output_type": "stream",
     "text": [
      "1 2 3\n",
      "2 3\n",
      "3\n",
      "***************\n",
      "AI ML DL\n",
      "ML DL\n",
      "DL\n",
      "***************\n",
      "1.11 2.22 3.33\n",
      "2.22 3.33\n",
      "3.33\n",
      "***************\n",
      "1 Hello 3\n",
      "Hello 3\n",
      "3\n"
     ]
    },
    {
     "data": {
      "text/plain": [
       "()"
      ]
     },
     "execution_count": 39,
     "metadata": {},
     "output_type": "execute_result"
    }
   ],
   "source": [
    "#Positional Argument:- Argument passed should match the function parameter from left to right\n",
    "    \n",
    "def Pos_Arg(a,b,c):\n",
    "    print(a,b,c)\n",
    "    print(b,c)\n",
    "    print(c)\n",
    "    return()\n",
    "Pos_Arg(1,2,3)\n",
    "print(\"***************\")\n",
    "Pos_Arg(\"AI\",\"ML\",\"DL\")\n",
    "print(\"***************\")\n",
    "Pos_Arg(1.11,2.22,3.33)\n",
    "print(\"***************\")\n",
    "Pos_Arg(1,\"Hello\",3)"
   ]
  },
  {
   "cell_type": "code",
   "execution_count": 40,
   "metadata": {},
   "outputs": [
    {
     "name": "stdout",
     "output_type": "stream",
     "text": [
      "10 20 30 40\n",
      "20 30 40\n",
      "30 40\n",
      "40\n",
      "Ashu Jay Abhishek Rahul\n",
      "Jay Abhishek Rahul\n",
      "Abhishek Rahul\n",
      "Rahul\n",
      "1 12 23 45\n",
      "12 23 45\n",
      "23 45\n",
      "45\n",
      "1 12 23 45\n",
      "12 23 45\n",
      "23 45\n",
      "45\n"
     ]
    },
    {
     "data": {
      "text/plain": [
       "()"
      ]
     },
     "execution_count": 40,
     "metadata": {},
     "output_type": "execute_result"
    }
   ],
   "source": [
    "####Keyword Argument:- we can call a function by specifying the keyword argument in \n",
    "###the form argument name=value \n",
    "\n",
    "def keyword(a,b,c,d):\n",
    "    print(a,b,c,d)\n",
    "    print(b,c,d)\n",
    "    print(c,d)\n",
    "    print(d)\n",
    "    return()\n",
    "    \n",
    "keyword(a=10,b=20,c=30,d=40)\n",
    "keyword(a=\"Ashu\",b=\"Jay\",c=\"Abhishek\",d=\"Rahul\")\n",
    "keyword(1,b=12,c=23,d=45)\n",
    "keyword(1,12,23,45)\n"
   ]
  },
  {
   "cell_type": "code",
   "execution_count": 41,
   "metadata": {},
   "outputs": [
    {
     "name": "stdout",
     "output_type": "stream",
     "text": [
      "100 200 300\n",
      "200 300\n",
      "300\n",
      "1 200 300\n",
      "200 300\n",
      "300\n",
      "1 2 300\n",
      "2 300\n",
      "300\n",
      "1 2 3\n",
      "2 3\n",
      "3\n"
     ]
    },
    {
     "data": {
      "text/plain": [
       "()"
      ]
     },
     "execution_count": 41,
     "metadata": {},
     "output_type": "execute_result"
    }
   ],
   "source": [
    "#Default Keyword:- A default value can be written in the format \"argument=value\" \n",
    "#therefor we will have the option to declare or not declare a value for those argument\n",
    "\n",
    "def DefaultArg(a=100,b=200,c=300):\n",
    "    print(a,b,c)\n",
    "    print(b,c)\n",
    "    print(c)\n",
    "    return()\n",
    "DefaultArg()\n",
    "DefaultArg(1)\n",
    "DefaultArg(1,2)\n",
    "DefaultArg(1,2,3)"
   ]
  },
  {
   "cell_type": "code",
   "execution_count": 44,
   "metadata": {},
   "outputs": [
    {
     "name": "stdout",
     "output_type": "stream",
     "text": [
      "1\n",
      "1\n",
      "21 54 65\n",
      "65 54 89\n",
      "45 32 90\n"
     ]
    }
   ],
   "source": [
    "#Variable Length Argument:-  \n",
    "def Random_Var(*X):\n",
    "    for n in X:\n",
    "        print(n)\n",
    "        return()\n",
    "Random_Var()\n",
    "Random_Var(1)\n",
    "Random_Var(1,2,3,4,5)\n",
    "\n",
    "\n"
   ]
  },
  {
   "cell_type": "code",
   "execution_count": 46,
   "metadata": {},
   "outputs": [
    {
     "name": "stdout",
     "output_type": "stream",
     "text": [
      "21 54 65\n",
      "65 54 89\n",
      "45 32 90\n"
     ]
    }
   ],
   "source": [
    "def score(BigData, Hadoop=54, Spark=65):\n",
    "    print(BigData,Hadoop,Spark)\n",
    "score(21)\n",
    "score(65,Spark=89)\n",
    "score(BigData=45,Hadoop=32,Spark=90)"
   ]
  },
  {
   "cell_type": "code",
   "execution_count": 47,
   "metadata": {},
   "outputs": [
    {
     "name": "stdout",
     "output_type": "stream",
     "text": [
      "89\n"
     ]
    },
    {
     "data": {
      "text/plain": [
       "()"
      ]
     },
     "execution_count": 47,
     "metadata": {},
     "output_type": "execute_result"
    }
   ],
   "source": [
    "#Local Variable:-they can be accessed within function\n",
    "\n",
    "def Local_Var():\n",
    "    a=10;b=79 #local variable \n",
    "    print(a+b)\n",
    "    return()\n",
    "Local_Var()"
   ]
  },
  {
   "cell_type": "code",
   "execution_count": 48,
   "metadata": {},
   "outputs": [
    {
     "name": "stdout",
     "output_type": "stream",
     "text": [
      "844\n",
      "-734\n",
      "792\n"
     ]
    },
    {
     "data": {
      "text/plain": [
       "()"
      ]
     },
     "execution_count": 48,
     "metadata": {},
     "output_type": "execute_result"
    }
   ],
   "source": [
    "#Global Variable:- Global variable can be accessed out side the function\n",
    "\n",
    "x=55; z=789 # Global Variable\n",
    "def Global_Var():\n",
    "    print(x+z)\n",
    "    return()\n",
    "def Global_Var1():\n",
    "    print(x-z)\n",
    "    return()\n",
    "def local_var():\n",
    "    x=3\n",
    "    print(x+z)\n",
    "    return()\n",
    "        \n",
    "Global_Var()\n",
    "Global_Var1()\n",
    "local_var()\n"
   ]
  },
  {
   "cell_type": "code",
   "execution_count": 49,
   "metadata": {},
   "outputs": [
    {
     "name": "stdout",
     "output_type": "stream",
     "text": [
      "inside the function local total is:  65\n",
      "outside the function global total is:  100\n"
     ]
    }
   ],
   "source": [
    "total = 100;\n",
    "def Sum(arg1,arg2):\n",
    "    total = arg1+arg2\n",
    "    print(\"inside the function local total is: \",total)\n",
    "    return(total)\n",
    "Sum(10,55)\n",
    "print(\"outside the function global total is: \",total)"
   ]
  },
  {
   "cell_type": "code",
   "execution_count": 52,
   "metadata": {},
   "outputs": [],
   "source": [
    "def scope_variable_one():\n",
    "    global a,b\n",
    "    a=222;b=4532\n",
    "    print(a+b)\n",
    "    return()\n",
    "def scope_variable_two():\n",
    "    global a,b\n",
    "    a=222;b=4532\n",
    "    print(a+b)\n",
    "    return()"
   ]
  },
  {
   "cell_type": "code",
   "execution_count": 55,
   "metadata": {},
   "outputs": [
    {
     "name": "stdout",
     "output_type": "stream",
     "text": [
      "2546635580040\n",
      "2546635580040\n",
      "Welcome to Banking LIC\n",
      "Welcome to Banking SBI\n",
      "Welcome to Banking LIC Insure\n"
     ]
    },
    {
     "data": {
      "text/plain": [
       "()"
      ]
     },
     "execution_count": 55,
     "metadata": {},
     "output_type": "execute_result"
    }
   ],
   "source": [
    "def Banking(Name):\n",
    "    print(\"Welcome to Banking\",Name)\n",
    "    return()\n",
    "insurance = Banking\n",
    "print(id(Banking))\n",
    "print(id(insurance))\n",
    "insurance('LIC')\n",
    "Banking(\"SBI\")\n",
    "del Banking\n",
    "insurance(\"LIC Insure\")"
   ]
  },
  {
   "cell_type": "code",
   "execution_count": 57,
   "metadata": {},
   "outputs": [
    {
     "name": "stdout",
     "output_type": "stream",
     "text": [
      "Welcome to outer function\n",
      "Thank u\n",
      "Welcome to inner function\n",
      "thank you\n",
      "Welcome to inner function\n",
      "thank you\n",
      "Welcome to outer function\n",
      "Thank u\n",
      "Welcome to inner function\n",
      "thank you\n",
      "Welcome to inner function\n",
      "thank you\n"
     ]
    }
   ],
   "source": [
    "def Outerfunction():\n",
    "    print(\"Welcome to outer function\")\n",
    "    print(\"Thank u\")\n",
    "    def Innerfunction():\n",
    "        print(\"Welcome to inner function\")\n",
    "        print(\"thank you\")\n",
    "    Innerfunction()\n",
    "    Innerfunction()    \n",
    "Outerfunction()\n",
    "Outerfunction()"
   ]
  },
  {
   "cell_type": "code",
   "execution_count": 58,
   "metadata": {},
   "outputs": [
    {
     "name": "stdout",
     "output_type": "stream",
     "text": [
      "The result is:  0.6666666666666666\n",
      "Good One\n",
      "The result is:  0.36666666666666664\n",
      "thank you\n"
     ]
    }
   ],
   "source": [
    "def outer_fun():\n",
    "    x = 200\n",
    "    y = 300\n",
    "    print(\"The result is: \",x/y)\n",
    "    print(\"Good One\")\n",
    "    def inner_fun():\n",
    "        nonlocal x\n",
    "        x =110\n",
    "        print(\"The result is: \",x/y)\n",
    "        print(\"thank you\")\n",
    "    inner_fun()\n",
    "outer_fun()"
   ]
  },
  {
   "cell_type": "code",
   "execution_count": 59,
   "metadata": {},
   "outputs": [
    {
     "name": "stdout",
     "output_type": "stream",
     "text": [
      "24\n"
     ]
    }
   ],
   "source": [
    "def One_Function(n):\n",
    "    if n == 1:\n",
    "        return 1\n",
    "    else:\n",
    "        return n*One_Function(n-1)\n",
    "print(One_Function(4))"
   ]
  },
  {
   "cell_type": "code",
   "execution_count": 60,
   "metadata": {},
   "outputs": [
    {
     "name": "stdout",
     "output_type": "stream",
     "text": [
      "21\n"
     ]
    }
   ],
   "source": [
    "def counter(c):\n",
    "    if c<=0:\n",
    "        return c\n",
    "    else:\n",
    "        return c+counter(c-1)\n",
    "print(counter(6))"
   ]
  },
  {
   "cell_type": "code",
   "execution_count": 61,
   "metadata": {},
   "outputs": [
    {
     "name": "stdout",
     "output_type": "stream",
     "text": [
      "[2, 4, 6, 8, 10]\n"
     ]
    }
   ],
   "source": [
    "def ONEFUN(*args):\n",
    "    Pylist=[]\n",
    "    for i in args:\n",
    "        Pylist.append(i*2)\n",
    "    return Pylist\n",
    "input_num = [1,2,3,4,5]\n",
    "print(ONEFUN(*input_num))"
   ]
  },
  {
   "cell_type": "code",
   "execution_count": 62,
   "metadata": {},
   "outputs": [
    {
     "name": "stdout",
     "output_type": "stream",
     "text": [
      "4\n",
      "@@@@@\n"
     ]
    }
   ],
   "source": [
    "n = lambda X:X**2;print(n(2))\n",
    "print(\"@@@@@\")"
   ]
  },
  {
   "cell_type": "code",
   "execution_count": 63,
   "metadata": {},
   "outputs": [
    {
     "name": "stdout",
     "output_type": "stream",
     "text": [
      "4\n"
     ]
    }
   ],
   "source": [
    "Max = lambda x,y:x if x>y else y\n",
    "print(max(3,4))"
   ]
  },
  {
   "cell_type": "code",
   "execution_count": 67,
   "metadata": {},
   "outputs": [
    {
     "name": "stdout",
     "output_type": "stream",
     "text": [
      "3\n"
     ]
    }
   ],
   "source": [
    "Min = lambda x,y:x if x<y else y\n",
    "print(Min(4,3))"
   ]
  },
  {
   "cell_type": "code",
   "execution_count": 65,
   "metadata": {},
   "outputs": [
    {
     "name": "stdout",
     "output_type": "stream",
     "text": [
      "8\n"
     ]
    }
   ],
   "source": [
    "product = lambda x,y : x*y\n",
    "print(product(2,4))"
   ]
  },
  {
   "cell_type": "code",
   "execution_count": 68,
   "metadata": {},
   "outputs": [
    {
     "name": "stdout",
     "output_type": "stream",
     "text": [
      "-22\n",
      "31\n"
     ]
    },
    {
     "data": {
      "text/plain": [
       "31"
      ]
     },
     "execution_count": 68,
     "metadata": {},
     "output_type": "execute_result"
    }
   ],
   "source": [
    "Def = lambda x,y:x-y \n",
    "print(Def(43,65))\n",
    "\n",
    "def Def(a,s):\n",
    "    c = (a-s)\n",
    "    print(c)\n",
    "    return c\n",
    "Def(43,12)\n"
   ]
  },
  {
   "cell_type": "code",
   "execution_count": 66,
   "metadata": {},
   "outputs": [
    {
     "name": "stdout",
     "output_type": "stream",
     "text": [
      "4\n",
      "79\n"
     ]
    }
   ],
   "source": [
    "Max = lambda x,y:x if x>y else y\n",
    "print(max(3,4))\n",
    "\n",
    "def MAXVAL(a,b):\n",
    "    if a>b:\n",
    "        return a\n",
    "    else:\n",
    "        return b\n",
    "print(MAXVAL(68,79))"
   ]
  },
  {
   "cell_type": "code",
   "execution_count": 69,
   "metadata": {},
   "outputs": [
    {
     "name": "stdout",
     "output_type": "stream",
     "text": [
      "55\n"
     ]
    }
   ],
   "source": [
    "Def = lambda x,y:x+y\n",
    "print(Def(43,12))"
   ]
  },
  {
   "cell_type": "code",
   "execution_count": 70,
   "metadata": {},
   "outputs": [
    {
     "name": "stdout",
     "output_type": "stream",
     "text": [
      "[1, 4, 9, 16, 25, 36]\n"
     ]
    }
   ],
   "source": [
    "Oldlist = [1,2,3,4,5,6]\n",
    "Newlist = list(map(lambda x:x**2,Oldlist))\n",
    "print(Newlist)"
   ]
  },
  {
   "cell_type": "code",
   "execution_count": 71,
   "metadata": {},
   "outputs": [
    {
     "name": "stdout",
     "output_type": "stream",
     "text": [
      "[1, 2, 3, 4]\n"
     ]
    }
   ],
   "source": [
    "Oldlist = [1,2,3,4,5,6]\n",
    "Newlist = list(filter(lambda x:x<5,Oldlist))\n",
    "print(Newlist)"
   ]
  },
  {
   "cell_type": "code",
   "execution_count": 72,
   "metadata": {},
   "outputs": [
    {
     "name": "stdout",
     "output_type": "stream",
     "text": [
      "45\n",
      "-43\n"
     ]
    }
   ],
   "source": [
    "import functools\n",
    "N = [1,2,3,4,5,6,7,8,9]\n",
    "print(functools.reduce(lambda x,y:x+y,N))\n",
    "print(functools.reduce(lambda x,y:x-y,N))"
   ]
  },
  {
   "cell_type": "code",
   "execution_count": 19,
   "metadata": {},
   "outputs": [
    {
     "name": "stdout",
     "output_type": "stream",
     "text": [
      "Start Python with jupyter notebook\n"
     ]
    }
   ],
   "source": [
    "#Output Variables\n",
    "'''The Python print statement is often used to output variables.\n",
    "   To combine both text and a variable, Python uses the + character:'''\n",
    "\n",
    "x = \"with jupyter notebook\"\n",
    "print(\"Start Python \" + x)"
   ]
  },
  {
   "cell_type": "code",
   "execution_count": 20,
   "metadata": {},
   "outputs": [
    {
     "name": "stdout",
     "output_type": "stream",
     "text": [
      "Start python with jupyter notebook\n"
     ]
    }
   ],
   "source": [
    "'''You can also use the + character to add a variable to another variable:'''\n",
    "\n",
    "A = \"Start python \"\n",
    "B = \"with jupyter notebook\"\n",
    "C = A + B\n",
    "print(C)"
   ]
  },
  {
   "cell_type": "code",
   "execution_count": 21,
   "metadata": {},
   "outputs": [
    {
     "name": "stdout",
     "output_type": "stream",
     "text": [
      "Enter Any Number: 5\n",
      "* \n",
      "* * \n",
      "* * * \n",
      "* * * * \n",
      "* * * * * \n"
     ]
    }
   ],
   "source": [
    "num = int(input(\"Enter Any Number: \"))\n",
    "\n",
    "for i in range(0,num):\n",
    "    for j in range(0,i+1):\n",
    "        print(\"*\",end=\" \")\n",
    "    print() "
   ]
  },
  {
   "cell_type": "code",
   "execution_count": 23,
   "metadata": {},
   "outputs": [
    {
     "name": "stdout",
     "output_type": "stream",
     "text": [
      "Enter Any Number: 5\n",
      "* * * * * \n",
      "* * * * \n",
      "* * * \n",
      "* * \n",
      "* \n"
     ]
    }
   ],
   "source": [
    "num = int(input(\"Enter Any Number: \"))\n",
    "\n",
    "for i in range(0,num):\n",
    "    for j in range(0,num-i):\n",
    "        print(\"*\",end=\" \")\n",
    "    print()"
   ]
  },
  {
   "cell_type": "code",
   "execution_count": 24,
   "metadata": {},
   "outputs": [
    {
     "name": "stdout",
     "output_type": "stream",
     "text": [
      "Enter Any Number: 5\n",
      "####* \n",
      "###* * \n",
      "##* * * \n",
      "#* * * * \n",
      "* * * * * \n"
     ]
    }
   ],
   "source": [
    "num = int(input(\"Enter Any Number: \"))\n",
    "\n",
    "for i in range(0,num):\n",
    "    for j in range(0,num-i-1):\n",
    "        print(end=\"#\")\n",
    "    for j in range(0,i+1):\n",
    "        print(\"*\",end=\" \")\n",
    "        \n",
    "    print()"
   ]
  },
  {
   "cell_type": "code",
   "execution_count": 25,
   "metadata": {},
   "outputs": [
    {
     "name": "stdout",
     "output_type": "stream",
     "text": [
      "Enter Any Number: 5\n",
      "1 \n",
      "2 2 \n",
      "3 3 3 \n",
      "4 4 4 4 \n",
      "5 5 5 5 5 \n"
     ]
    }
   ],
   "source": [
    "num = int(input(\"Enter Any Number: \"))\n",
    "for i in range(1,num+1):\n",
    "    for j in range(1,i+1):\n",
    "        print(i,end=\" \")\n",
    "    print()"
   ]
  },
  {
   "cell_type": "code",
   "execution_count": 26,
   "metadata": {},
   "outputs": [
    {
     "name": "stdout",
     "output_type": "stream",
     "text": [
      "Enter Any Number: 5\n",
      "1 \n",
      "1 2 \n",
      "1 2 3 \n",
      "1 2 3 4 \n",
      "1 2 3 4 5 \n"
     ]
    }
   ],
   "source": [
    "num = int(input(\"Enter Any Number: \"))\n",
    "for i in range(1,num+1):\n",
    "    for j in range(1,i+1):\n",
    "        print(j,end=\" \")\n",
    "    print()\n",
    "    "
   ]
  },
  {
   "cell_type": "code",
   "execution_count": 27,
   "metadata": {},
   "outputs": [
    {
     "name": "stdout",
     "output_type": "stream",
     "text": [
      "Enter the number: 5\n",
      "1 \n",
      "2 3 \n",
      "4 5 6 \n",
      "7 8 9 10 \n",
      "11 12 13 14 15 \n"
     ]
    }
   ],
   "source": [
    "## Floyd's Traingle    \n",
    "num = int(input(\"Enter the number: \"))\n",
    "a = 1\n",
    "for i in range(1,num+1):\n",
    "    for j in range(1,i+1):\n",
    "        print(a,end=\" \")\n",
    "        a = a+1\n",
    "    print()"
   ]
  },
  {
   "cell_type": "code",
   "execution_count": 28,
   "metadata": {},
   "outputs": [
    {
     "name": "stdout",
     "output_type": "stream",
     "text": [
      "Enter the string : ashu\n",
      "a \n",
      "s s \n",
      "h h h \n",
      "u u u u \n"
     ]
    }
   ],
   "source": [
    "    \n",
    "string = input(\"Enter the string : \")\n",
    "length = len(string)\n",
    "\n",
    "for i in range(length):\n",
    "    for j in range(i+1):\n",
    "        print(string[i],end=\" \")\n",
    "    print()"
   ]
  },
  {
   "cell_type": "code",
   "execution_count": 28,
   "metadata": {},
   "outputs": [
    {
     "name": "stdout",
     "output_type": "stream",
     "text": [
      "Enter the string : mishra\n",
      "m \n",
      "m i \n",
      "m i s \n",
      "m i s h \n",
      "m i s h r \n",
      "m i s h r a \n"
     ]
    }
   ],
   "source": [
    "string = input(\"Enter the string : \")\n",
    "length = len(string)\n",
    "\n",
    "for i in range(length):\n",
    "    for j in range(i+1):\n",
    "        print(string[j],end=\" \")\n",
    "    print()"
   ]
  },
  {
   "cell_type": "code",
   "execution_count": 74,
   "metadata": {},
   "outputs": [
    {
     "name": "stdout",
     "output_type": "stream",
     "text": [
      "Enter Any Number: 5\n",
      "1 \n",
      "2 3 \n",
      "4 5 6 \n",
      "7 8 9 10 \n",
      "11 12 13 14 15 \n"
     ]
    }
   ],
   "source": [
    "num = int(input(\"Enter Any Number: \"))\n",
    "a = 1\n",
    "for i in range(1,num+1):\n",
    "    for j in range(1,i+1):\n",
    "        print(a,end=\" \")\n",
    "        a = a+1\n",
    "    print()"
   ]
  },
  {
   "cell_type": "code",
   "execution_count": 84,
   "metadata": {},
   "outputs": [
    {
     "name": "stdout",
     "output_type": "stream",
     "text": [
      "Enter Any Number: 5\n",
      "* \n",
      "* * \n",
      "* * * \n",
      "* * * * \n",
      "* * * * * \n"
     ]
    }
   ],
   "source": [
    "num = int(input(\"Enter Any Number: \"))\n",
    "for i in range(0,num):\n",
    "    for j in range(0,i+1):\n",
    "        print(\"*\",end=\" \")\n",
    "    print() "
   ]
  },
  {
   "cell_type": "code",
   "execution_count": 85,
   "metadata": {},
   "outputs": [
    {
     "name": "stdout",
     "output_type": "stream",
     "text": [
      "* * * * * \n",
      "* * * * \n",
      "* * * \n",
      "* * \n",
      "* \n"
     ]
    }
   ],
   "source": [
    "#num = int(input(\"Enter Any Number: \"))\n",
    "for i in range(0,num):\n",
    "    for j in range(0,num-i):\n",
    "        print(\"*\",end=\" \")\n",
    "    print()"
   ]
  },
  {
   "cell_type": "code",
   "execution_count": 86,
   "metadata": {},
   "outputs": [
    {
     "name": "stdout",
     "output_type": "stream",
     "text": [
      "Enter Any Number: 5\n",
      "    * \n",
      "   * * \n",
      "  * * * \n",
      " * * * * \n",
      "* * * * * \n"
     ]
    }
   ],
   "source": [
    "num = int(input(\"Enter Any Number: \"))\n",
    "\n",
    "for i in range(0,num):\n",
    "    for j in range(0,num-i-1):\n",
    "        print(end=\" \")\n",
    "    for j in range(0,i+1):\n",
    "        print(\"*\",end=\" \")\n",
    "        \n",
    "    print()"
   ]
  },
  {
   "cell_type": "code",
   "execution_count": 87,
   "metadata": {},
   "outputs": [
    {
     "name": "stdout",
     "output_type": "stream",
     "text": [
      "Enter Any Number: 5\n",
      "1 \n",
      "2 2 \n",
      "3 3 3 \n",
      "4 4 4 4 \n",
      "5 5 5 5 5 \n"
     ]
    }
   ],
   "source": [
    "num = int(input(\"Enter Any Number: \"))\n",
    "for i in range(1,num+1):\n",
    "    for j in range(1,i+1):\n",
    "        print(i,end=\" \")\n",
    "    print()"
   ]
  },
  {
   "cell_type": "code",
   "execution_count": 88,
   "metadata": {},
   "outputs": [
    {
     "name": "stdout",
     "output_type": "stream",
     "text": [
      "Enter Any Number: 5\n",
      "1 \n",
      "1 2 \n",
      "1 2 3 \n",
      "1 2 3 4 \n",
      "1 2 3 4 5 \n"
     ]
    }
   ],
   "source": [
    "\n",
    "num = int(input(\"Enter Any Number: \"))\n",
    "for i in range(1,num+1):\n",
    "    for j in range(1,i+1):\n",
    "        print(j,end=\" \")\n",
    "    print()"
   ]
  },
  {
   "cell_type": "code",
   "execution_count": 90,
   "metadata": {},
   "outputs": [
    {
     "name": "stdout",
     "output_type": "stream",
     "text": [
      "enter the number of rows: 5\n",
      "A \n",
      "A B \n",
      "A B C \n",
      "A B C D \n",
      "A B C D E \n"
     ]
    }
   ],
   "source": [
    "n = int(input(\"enter the number of rows: \"))\n",
    "for i in range(1,n+1):\n",
    "    for j in range(1,i+1):\n",
    "        print(chr(64+j),end=\" \")\n",
    "    print()\n",
    "    "
   ]
  },
  {
   "cell_type": "code",
   "execution_count": 91,
   "metadata": {},
   "outputs": [
    {
     "name": "stdout",
     "output_type": "stream",
     "text": [
      "enter the number of rows: 5\n",
      "A \n",
      "B B \n",
      "C C C \n",
      "D D D D \n",
      "E E E E E \n"
     ]
    }
   ],
   "source": [
    "n = int(input(\"enter the number of rows: \"))\n",
    "for i in range(1,n+1):\n",
    "    for j in range(1,i+1):\n",
    "        print(chr(64+i),end=\" \")\n",
    "    print() \n",
    "    "
   ]
  },
  {
   "cell_type": "code",
   "execution_count": 92,
   "metadata": {},
   "outputs": [
    {
     "name": "stdout",
     "output_type": "stream",
     "text": [
      "Enter the number of rows: 5\n",
      "*****\n",
      "*****\n",
      "*****\n",
      "*****\n",
      "*****\n"
     ]
    }
   ],
   "source": [
    "n = int(input(\"Enter the number of rows: \"))\n",
    "for i in range(0,n):\n",
    "    print(\"*\"*n)"
   ]
  },
  {
   "cell_type": "code",
   "execution_count": 93,
   "metadata": {},
   "outputs": [
    {
     "name": "stdout",
     "output_type": "stream",
     "text": [
      "Enter the number of rows: 5\n",
      "1 1 1 1 1 \n",
      "2 2 2 2 2 \n",
      "3 3 3 3 3 \n",
      "4 4 4 4 4 \n",
      "5 5 5 5 5 \n"
     ]
    }
   ],
   "source": [
    "n = int(input(\"Enter the number of rows: \"))\n",
    "for i in range(1,n+1):\n",
    "    for j in range(1,n+1):\n",
    "        print(i,end=\" \")\n",
    "    print()"
   ]
  },
  {
   "cell_type": "code",
   "execution_count": 94,
   "metadata": {},
   "outputs": [
    {
     "name": "stdout",
     "output_type": "stream",
     "text": [
      "Enter the number of rows: 5\n",
      "1 2 3 4 5 \n",
      "1 2 3 4 5 \n",
      "1 2 3 4 5 \n",
      "1 2 3 4 5 \n",
      "1 2 3 4 5 \n"
     ]
    }
   ],
   "source": [
    "n = int(input(\"Enter the number of rows: \"))\n",
    "for i in range(1,n+1):\n",
    "    for j in range(1,n+1):\n",
    "        print(j,end=\" \")\n",
    "    print()"
   ]
  },
  {
   "cell_type": "code",
   "execution_count": 29,
   "metadata": {},
   "outputs": [
    {
     "name": "stdout",
     "output_type": "stream",
     "text": [
      "Enter Number of rows: 3\n",
      "Enter Number of columns: 3\n",
      "Enter the number of pocket 0 0 1\n",
      "Enter the number of pocket 0 1 2\n",
      "Enter the number of pocket 0 2 3\n",
      "\n",
      "Enter the number of pocket 1 0 4\n",
      "Enter the number of pocket 1 1 5\n",
      "Enter the number of pocket 1 2 6\n",
      "\n",
      "Enter the number of pocket 2 0 7\n",
      "Enter the number of pocket 2 1 8\n",
      "Enter the number of pocket 2 2 9\n",
      "\n",
      "1 2 3 \n",
      "4 5 6 \n",
      "7 8 9 \n"
     ]
    }
   ],
   "source": [
    "# How to take input from user and make matrix\n",
    "\n",
    "\n",
    "a = int(input(\"Enter Number of rows: \"))\n",
    "b = int(input(\"Enter Number of columns: \"))\n",
    "matrix = []\n",
    "for i in range(a):\n",
    "    c = []\n",
    "    for j in range(b):\n",
    "        j = int(input(\"Enter the number of pocket \"+str(i)+\" \"+str(j)+\" \"))\n",
    "        c.append(j)\n",
    "    print()\n",
    "    matrix.append(c)\n",
    "    \n",
    "for i in range(a):\n",
    "    for j in range(b):\n",
    "        print(matrix[i][j],end=\" \")\n",
    "    print()"
   ]
  },
  {
   "cell_type": "code",
   "execution_count": 75,
   "metadata": {},
   "outputs": [
    {
     "name": "stdout",
     "output_type": "stream",
     "text": [
      "[(1, 1), (1, 2), (3, 3)]\n",
      "[(3, 3), (1, 2), (1, 1)]\n"
     ]
    }
   ],
   "source": [
    "def sortsecond(val):\n",
    "    return val[1]\n",
    "List1 = [(1,2),(3,3),(1,1)]                                                                                                                                                                                                                                                                                                                                                                                                                                                                                                                                                                                                                                                                                                                                                                                                                                                                                                                                                                                                                                                                                                                                                                                                                                                                                                                                                                                                                                                                                                                                                                                                                                                                                                                                                                                                                                                                                                                                                                                                                                                                                                                                                                                                  \n",
    "List1.sort(key = sortsecond)\n",
    "print(List1)\n",
    "List1.sort(key = sortsecond, reverse = True)\n",
    "print(List1)"
   ]
  },
  {
   "cell_type": "code",
   "execution_count": 77,
   "metadata": {},
   "outputs": [
    {
     "name": "stdout",
     "output_type": "stream",
     "text": [
      "[['akash', 5], ['rishav', 10], ['gaurav', 15], ['ram', 20]]\n"
     ]
    }
   ],
   "source": [
    "#By using sort method\n",
    "\n",
    "def Sort(sub_li):\n",
    "    sub_li.sort(key = lambda x:x[1])\n",
    "    return(sub_li)\n",
    "sub_li = [['rishav',10],['akash',5],['ram',20],['gaurav',15]]\n",
    "print(Sort(sub_li))"
   ]
  },
  {
   "cell_type": "code",
   "execution_count": 80,
   "metadata": {},
   "outputs": [
    {
     "name": "stdout",
     "output_type": "stream",
     "text": [
      "[[1, 2], [3, 4, 5], [6, 7, 8, 9]]\n",
      "[1, 3, 6]\n"
     ]
    }
   ],
   "source": [
    "# Get first element of each sub list\n",
    "\n",
    "def Extract(lst):\n",
    "    return [item[0] for item in lst]\n",
    "lst = [[1,2],[3,4,5],[6,7,8,9]]\n",
    "print(lst)\n",
    "print(Extract(lst))"
   ]
  },
  {
   "cell_type": "code",
   "execution_count": 81,
   "metadata": {},
   "outputs": [
    {
     "name": "stdout",
     "output_type": "stream",
     "text": [
      "[1, 3, 6]\n"
     ]
    }
   ],
   "source": [
    "# Using Zip and unpacking(*) operator\n",
    "\n",
    "def Extarct(lst):\n",
    "    return list(list(zip(*lst))[0])\n",
    "lst = [[1,2],[3,4,5],[6,7,8,9]]\n",
    "print(Extract(lst))"
   ]
  },
  {
   "cell_type": "code",
   "execution_count": 82,
   "metadata": {},
   "outputs": [
    {
     "name": "stdout",
     "output_type": "stream",
     "text": [
      "[2, 5, 9]\n"
     ]
    }
   ],
   "source": [
    "# Using itemgetter()\n",
    "\n",
    "from operator import itemgetter\n",
    "\n",
    "def Extract(lst):\n",
    "    return list(map(itemgetter(-1), lst))\n",
    "lst = [[1,2],[3,4,5],[6,7,8,9]]\n",
    "print(Extract(lst))"
   ]
  },
  {
   "cell_type": "code",
   "execution_count": 83,
   "metadata": {},
   "outputs": [
    {
     "name": "stdout",
     "output_type": "stream",
     "text": [
      "[['Sunil', 1, 77], ['cat', 1, 100], ['Rikky', 2, 65], ['Rash', 4, 30], ['Ashu', 5, 32]]\n"
     ]
    }
   ],
   "source": [
    "Spelist = [['Rash', 4, 30], ['Ashu', 5, 32], ['Rikky', 2, 65], ['Sunil', 1, 77], ['cat', 1, 100]]\n",
    "Spelist.sort(key = lambda x:x[1])   \n",
    "print(Spelist) "
   ]
  },
  {
   "cell_type": "code",
   "execution_count": 97,
   "metadata": {},
   "outputs": [
    {
     "name": "stdout",
     "output_type": "stream",
     "text": [
      "0.9456795373364572\n",
      "0.021823946007838324\n",
      "0.9290899709920967\n",
      "0.12856707926829503\n",
      "0.5939865688902726\n",
      "0.030105673295408142\n",
      "0.3577086119167546\n",
      "0.12989037133195702\n",
      "***********************\n"
     ]
    }
   ],
   "source": [
    "import random\n",
    "\n",
    "for i in range(8):\n",
    "    print(random.random())\n",
    "    \n",
    "print(\"***********************\")   "
   ]
  },
  {
   "cell_type": "code",
   "execution_count": 98,
   "metadata": {},
   "outputs": [
    {
     "name": "stdout",
     "output_type": "stream",
     "text": [
      "6.307388532760937\n",
      "4.10747691116131\n",
      "5.744530945997262\n",
      "6.163702954501381\n",
      "6.3605339380462365\n",
      "4.596062850927454\n",
      "6.564150530912745\n",
      "6.7054291890748985\n",
      "6.117812837067069\n",
      "4.087936391588254\n",
      "@@@@@@@@@@@@@@@@@@@@@@\n"
     ]
    }
   ],
   "source": [
    "def my_random():\n",
    "    #random, scale, shift, return..\n",
    "    return 4*random.random() + 3\n",
    "for i in range(10):\n",
    "    print(my_random())\n",
    "print(\"@@@@@@@@@@@@@@@@@@@@@@\")   "
   ]
  },
  {
   "cell_type": "code",
   "execution_count": 100,
   "metadata": {},
   "outputs": [
    {
     "data": {
      "text/plain": [
       "[1, 4, 9, 16]"
      ]
     },
     "execution_count": 100,
     "metadata": {},
     "output_type": "execute_result"
    }
   ],
   "source": [
    "numbers = (1, 2, 3, 4)\n",
    "def twice(n):\n",
    "    return n*n\n",
    "x = list(map(twice,numbers))\n",
    "x"
   ]
  },
  {
   "cell_type": "code",
   "execution_count": 101,
   "metadata": {},
   "outputs": [
    {
     "name": "stdout",
     "output_type": "stream",
     "text": [
      "[20, 40, 60, 80, 100]\n"
     ]
    }
   ],
   "source": [
    "def addition(num):\n",
    "    return num + num\n",
    " \n",
    "numbers = [10, 20, 30, 40, 50]\n",
    " \n",
    "map_result = map(addition, numbers)\n",
    "print(list(map_result))"
   ]
  },
  {
   "cell_type": "code",
   "execution_count": 102,
   "metadata": {},
   "outputs": [
    {
     "name": "stdout",
     "output_type": "stream",
     "text": [
      "[120, 720, 5040]\n"
     ]
    }
   ],
   "source": [
    "import math\n",
    "numbers = [5,6,7]\n",
    "print(list(map(math.factorial,numbers)))"
   ]
  },
  {
   "cell_type": "code",
   "execution_count": 103,
   "metadata": {},
   "outputs": [
    {
     "name": "stdout",
     "output_type": "stream",
     "text": [
      "21\n"
     ]
    }
   ],
   "source": [
    "from functools import reduce\n",
    "\n",
    "def add(a,b):\n",
    "    return a+b\n",
    "List_A = [1,2,3,4,5,6]\n",
    "print(reduce(add,List_A))"
   ]
  },
  {
   "cell_type": "code",
   "execution_count": 104,
   "metadata": {},
   "outputs": [
    {
     "name": "stdout",
     "output_type": "stream",
     "text": [
      "21\n",
      "With an initial value: 31\n"
     ]
    }
   ],
   "source": [
    "from functools import reduce\n",
    "\n",
    "List_A = [1,2,3,4,5,6]\n",
    "print(reduce(lambda x,y: x+y, List_A))\n",
    "print(\"With an initial value:\", str(reduce(lambda x,y: x+y, List_A, 10)))"
   ]
  },
  {
   "cell_type": "code",
   "execution_count": 105,
   "metadata": {},
   "outputs": [
    {
     "name": "stdout",
     "output_type": "stream",
     "text": [
      "Data science is an interdisciplinary field that uses scientific methods,\n",
      "processes, algorithms and systems to extract knowledge and insights from\n",
      "structured and unstructured data, and apply knowledge and actionable insights\n",
      "from data across a broad range of application domains.\n"
     ]
    }
   ],
   "source": [
    "f = open(\"C:\\\\Users\\Anand Mishra\\Desktop\\Data.txt\", \"r\")\n",
    "print(f.read())"
   ]
  },
  {
   "cell_type": "code",
   "execution_count": 106,
   "metadata": {},
   "outputs": [
    {
     "name": "stdout",
     "output_type": "stream",
     "text": [
      "Data science is an interdisciplinary fie\n"
     ]
    }
   ],
   "source": [
    "f = open(\"C:\\\\Users\\Anand Mishra\\Desktop\\Data.txt\", \"r\")\n",
    "print(f.read(40))"
   ]
  },
  {
   "cell_type": "code",
   "execution_count": 107,
   "metadata": {},
   "outputs": [],
   "source": [
    "f = open(\"C:\\\\Users\\Anand Mishra\\Desktop\\Data.txt\", \"a\")\n",
    "f.write(\"and apply knowledge and actionable insights from data across a broad range of application domains.\")\n",
    "f.close()"
   ]
  },
  {
   "cell_type": "code",
   "execution_count": 108,
   "metadata": {},
   "outputs": [
    {
     "name": "stdout",
     "output_type": "stream",
     "text": [
      "['Data science is an interdisciplinary field that uses scientific methods,\\n']\n"
     ]
    }
   ],
   "source": [
    "f = open(\"C:\\\\Users\\Anand Mishra\\Desktop\\Data.txt\", \"r\")\n",
    "print(f.readlines(3))\n",
    "f.close()"
   ]
  },
  {
   "cell_type": "code",
   "execution_count": null,
   "metadata": {},
   "outputs": [],
   "source": []
  }
 ],
 "metadata": {
  "kernelspec": {
   "display_name": "Python 3",
   "language": "python",
   "name": "python3"
  },
  "language_info": {
   "codemirror_mode": {
    "name": "ipython",
    "version": 3
   },
   "file_extension": ".py",
   "mimetype": "text/x-python",
   "name": "python",
   "nbconvert_exporter": "python",
   "pygments_lexer": "ipython3",
   "version": "3.7.4"
  }
 },
 "nbformat": 4,
 "nbformat_minor": 2
}
